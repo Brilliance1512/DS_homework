{
  "cells": [
    {
      "cell_type": "markdown",
      "id": "4c5300b0",
      "metadata": {
        "id": "4c5300b0"
      },
      "source": [
        "# Дз 3. Тестирование статистических гипотез"
      ]
    },
    {
      "cell_type": "markdown",
      "id": "e41ea851",
      "metadata": {
        "id": "e41ea851"
      },
      "source": [
        "<div class=\"alert alert-info\" role=\"alert\">\n",
        "\n",
        "Важно!\n",
        "\n",
        "* Плагиат карается обнулением работы\n",
        "* При использовании чужого кода из открытых источников необходимо указать ссылку на источник\n",
        "* В каждой задаче необходимо обосновывать выбор статистического критерия, формулировать нулевую и альтернативную гипотезу и делать интерпретацию получившихся результатов, а также содержательный вывод.\n",
        "* Весь текст оформляется строго в ячейках типа markdown"
      ]
    },
    {
      "cell_type": "markdown",
      "id": "e463f5b5",
      "metadata": {
        "id": "e463f5b5"
      },
      "source": [
        "## Задача 1. Осьминог Пауль (2 балла)\n",
        "\n",
        "\n",
        "В период с 2008 по 2010 год в Германии жил Осьминог Пауль, который был известен тем, что мог предсказывать результаты матчей с участием сборной Германии.     \n",
        "   \n",
        "В таблице ниже вы можете видеть результаты его предсказаний: \n"
      ]
    },
    {
      "cell_type": "markdown",
      "id": "63504b80",
      "metadata": {
        "id": "63504b80"
      },
      "source": [
        "<a href=\"https://ibb.co/VWnc5yG\"><img src=\"https://i.ibb.co/QFS3tBV/image.jpg\" alt=\"image\" border=\"0\"></a>"
      ]
    },
    {
      "cell_type": "markdown",
      "id": "346f6376",
      "metadata": {
        "id": "346f6376"
      },
      "source": [
        "Если считать, что случайным образом мы угадывали ли бы 50% матчей, то можно ли утверждать, что осьминог Пауль был талантливым экстрасенсом со способностями к предсказаниям?\n",
        "\n",
        "По факту, нам даны данные с биномиальным распределением. Так как у нас входных данных <30, будем использовать биномиальный тест а не Z-test\n",
        "Нулевая гипотеза - вероятность правильных предсказаний осьминога равна 0.5, \n",
        "Альтернативная гипотеза - вероятность правильных предсказаний осьминога больше 0.5"
      ]
    },
    {
      "cell_type": "code",
      "execution_count": 40,
      "id": "9072470f",
      "metadata": {
        "id": "9072470f"
      },
      "outputs": [
        {
          "data": {
            "text/plain": [
              "0.01123046875"
            ]
          },
          "execution_count": 40,
          "metadata": {},
          "output_type": "execute_result"
        }
      ],
      "source": [
        "from scipy import stats\n",
        "# У нас 11 'успехов' и 2 'провала'\n",
        "# Всего 13 записей\n",
        "stats.binom_test(11, 13, 0.5, alternative = 'greater')"
      ]
    },
    {
      "cell_type": "markdown",
      "id": "77d4bedf",
      "metadata": {},
      "source": [
        "Следуя из значения p-value, наша нулевая гипотеза отвергается практиески на любом разумном уровне статистической значимости, значит есть доказательства что осьминог Пауль был талантливым экстрасенсом со способностями к предсказаниям "
      ]
    },
    {
      "cell_type": "markdown",
      "id": "de312a8f",
      "metadata": {
        "id": "de312a8f"
      },
      "source": [
        "## Задача 2.  Корм и котики (2 балла)\n",
        "\n",
        "    \n",
        "Новый корм для котиков рекламируется с помощью рекламного баннера. Отдел маркетинга разработал для рекламы новый баннер. Они считают, что он более красивый. Перед фирмой возникла необходимость проверить какой из двух баннеров лучше.\n",
        "\n",
        "Для этого была создана специальная веб-форма. В этой веб-форме людям по очереди демонстрировали оба баннера и просили поставить лайк, если баннер нравится человеку. Если человеку нравятся оба баннера, он может поставить два лайка. Если ему не нравится ни один баннер, он может не ставить лайки вовсе. Собранные в конечном итоге данные находятся в табличке.\n",
        "\n",
        "Можно ли утверждать, что оба баннера одинаково хороши? Сформулируйте статистическую гипотезу для проверки того, что оба баннера выбирают одинаково часто. Проверьте ее и сделайте выводы.\n",
        "\n",
        "Нам даны две зависимые выборки с биноминальным распределением, так как один и тот же человек дает мнение (0 или 1) как о первом, так и о втором баннере. В этом случае используется парный t-критерий Стьюдента. Нулевая гипотеза - разница средних по первому и второму баннеру равна нулю, Альтернативная гипотеза - разница средних по баннерам не равна нулю."
      ]
    },
    {
      "cell_type": "code",
      "execution_count": 41,
      "id": "167378f2",
      "metadata": {
        "id": "167378f2"
      },
      "outputs": [
        {
          "data": {
            "text/plain": [
              "Ttest_relResult(statistic=-2.932274973720066, pvalue=0.003441727400512468)"
            ]
          },
          "execution_count": 41,
          "metadata": {},
          "output_type": "execute_result"
        }
      ],
      "source": [
        "import pandas as pd\n",
        "data = pd.read_csv('banner_click_stat.csv', delimiter='\\t')\n",
        "data.columns = ['first', 'second']\n",
        "stats.ttest_rel(data['first'], data['second'])"
      ]
    },
    {
      "cell_type": "markdown",
      "id": "486b1e17",
      "metadata": {},
      "source": [
        "В результате, у нас есть p-value при котором нулевая гипотеза отвергается на любом разумном уровне статистической значимости. Значит, у нас есть доказательства что один из баннеров выбирают чаще другого."
      ]
    },
    {
      "cell_type": "markdown",
      "id": "ceefe195",
      "metadata": {
        "id": "ceefe195"
      },
      "source": [
        "## Задача 3. Немного АВ-тестов (3 балла)\n",
        "## Игра Cookie Cat"
      ]
    },
    {
      "cell_type": "markdown",
      "id": "7a6e5960",
      "metadata": {
        "id": "7a6e5960"
      },
      "source": [
        "В этом задании мы поработаем с данными Cookie Cats - популярной игры-головоломки, которую разработала компания Tactile Entertainment. В этой игре игрок должен соединять одинаковые элементы в ряд, чтобы очистить поле и выиграть уровень. "
      ]
    },
    {
      "cell_type": "markdown",
      "id": "f010877f",
      "metadata": {
        "id": "f010877f"
      },
      "source": [
        "<p style=\"align: center;\"><img align=center src=\"https://i.ytimg.com/vi/iPxZIp0cbJE/maxresdefault.jpg\"  width=500></p>\n",
        " \n",
        " \n",
        "<p style=\"align: center;\"><img align=center src=\"https://s3.amazonaws.com/assets.datacamp.com/production/project_184/img/cc_gates.png\"  width=500></p>\n"
      ]
    },
    {
      "cell_type": "markdown",
      "id": "45a869f8",
      "metadata": {
        "id": "45a869f8"
      },
      "source": [
        "По мере прохождения уровней перед игроками появляются ворота, открытия которых нужно ждать какое-то время или пропускать их, совершая покупки в приложении. С точки зрения создателей эти ворота повышают интерес к игре и стимулируют к вложению денег в игру.\n"
      ]
    },
    {
      "cell_type": "markdown",
      "id": "1992bbd9",
      "metadata": {
        "id": "1992bbd9"
      },
      "source": [
        "Но у создателей появляется важный вопрос: **где лучше всего ставить ворота?**\n",
        "Первоначально первые ворота были размещены на уровне 30. Однако есть гипотеза, что лучше переместить их на уровень 40. В этом задании вам предлагается проанализировать результаты AB-теста, в котором создатели переместили первые ворота в Cookie Cats с 30 уровня на уровень 40. "
      ]
    },
    {
      "cell_type": "markdown",
      "id": "0178c412",
      "metadata": {
        "id": "0178c412"
      },
      "source": [
        "**Данные получены от 90 189 игроков, которые установили игру во время проведения AB-теста. Переменные:**\n",
        "\n",
        "* `userid` - уникальный номер, идентифицирующий каждого игрока.\n",
        "\n",
        "* `version` - был ли игрок помещен в контрольную группу (gate_30 - ворота на уровне 30) или в тестовую группу (gate_40 - ворота на уровне 40).\n",
        "\n",
        "* `sum_gamerounds` - количество игровых раундов, сыгранных игроком в течение первой недели после установки\n",
        "* `retention_1` - вернулся ли игрок в игру через 1 день после установки\n",
        "* `retention_7` - вернулся ли игрок в игру через 7 дней после установки\n",
        "\n",
        "Когда игрок устанавливал игру, ему случайным образом назначали `gate_30` или `gate_40`."
      ]
    },
    {
      "cell_type": "code",
      "execution_count": 42,
      "id": "5d32953b",
      "metadata": {
        "id": "5d32953b",
        "outputId": "e19bff24-d56e-419f-9197-a6169b9e1cf4"
      },
      "outputs": [
        {
          "data": {
            "text/html": [
              "<div>\n",
              "<style scoped>\n",
              "    .dataframe tbody tr th:only-of-type {\n",
              "        vertical-align: middle;\n",
              "    }\n",
              "\n",
              "    .dataframe tbody tr th {\n",
              "        vertical-align: top;\n",
              "    }\n",
              "\n",
              "    .dataframe thead th {\n",
              "        text-align: right;\n",
              "    }\n",
              "</style>\n",
              "<table border=\"1\" class=\"dataframe\">\n",
              "  <thead>\n",
              "    <tr style=\"text-align: right;\">\n",
              "      <th></th>\n",
              "      <th>userid</th>\n",
              "      <th>version</th>\n",
              "      <th>sum_gamerounds</th>\n",
              "      <th>retention_1</th>\n",
              "      <th>retention_7</th>\n",
              "    </tr>\n",
              "  </thead>\n",
              "  <tbody>\n",
              "    <tr>\n",
              "      <th>0</th>\n",
              "      <td>116</td>\n",
              "      <td>gate_30</td>\n",
              "      <td>3</td>\n",
              "      <td>False</td>\n",
              "      <td>False</td>\n",
              "    </tr>\n",
              "    <tr>\n",
              "      <th>1</th>\n",
              "      <td>337</td>\n",
              "      <td>gate_30</td>\n",
              "      <td>38</td>\n",
              "      <td>True</td>\n",
              "      <td>False</td>\n",
              "    </tr>\n",
              "    <tr>\n",
              "      <th>2</th>\n",
              "      <td>377</td>\n",
              "      <td>gate_40</td>\n",
              "      <td>165</td>\n",
              "      <td>True</td>\n",
              "      <td>False</td>\n",
              "    </tr>\n",
              "    <tr>\n",
              "      <th>3</th>\n",
              "      <td>483</td>\n",
              "      <td>gate_40</td>\n",
              "      <td>1</td>\n",
              "      <td>False</td>\n",
              "      <td>False</td>\n",
              "    </tr>\n",
              "    <tr>\n",
              "      <th>4</th>\n",
              "      <td>488</td>\n",
              "      <td>gate_40</td>\n",
              "      <td>179</td>\n",
              "      <td>True</td>\n",
              "      <td>True</td>\n",
              "    </tr>\n",
              "  </tbody>\n",
              "</table>\n",
              "</div>"
            ],
            "text/plain": [
              "   userid  version  sum_gamerounds  retention_1  retention_7\n",
              "0     116  gate_30               3        False        False\n",
              "1     337  gate_30              38         True        False\n",
              "2     377  gate_40             165         True        False\n",
              "3     483  gate_40               1        False        False\n",
              "4     488  gate_40             179         True         True"
            ]
          },
          "execution_count": 42,
          "metadata": {},
          "output_type": "execute_result"
        }
      ],
      "source": [
        "import pandas as pd\n",
        "df = pd.read_csv('cookie_cats.csv')\n",
        "df.head()"
      ]
    },
    {
      "cell_type": "code",
      "execution_count": 43,
      "id": "563bbcbb",
      "metadata": {
        "id": "563bbcbb",
        "outputId": "4467f65d-2988-455a-ebf0-ec78e3269d38"
      },
      "outputs": [
        {
          "name": "stdout",
          "output_type": "stream",
          "text": [
            "<class 'pandas.core.frame.DataFrame'>\n",
            "RangeIndex: 90189 entries, 0 to 90188\n",
            "Data columns (total 5 columns):\n",
            " #   Column          Non-Null Count  Dtype \n",
            "---  ------          --------------  ----- \n",
            " 0   userid          90189 non-null  int64 \n",
            " 1   version         90189 non-null  object\n",
            " 2   sum_gamerounds  90189 non-null  int64 \n",
            " 3   retention_1     90189 non-null  bool  \n",
            " 4   retention_7     90189 non-null  bool  \n",
            "dtypes: bool(2), int64(2), object(1)\n",
            "memory usage: 2.2+ MB\n"
          ]
        }
      ],
      "source": [
        "df.info()"
      ]
    },
    {
      "cell_type": "markdown",
      "id": "2bd5758d",
      "metadata": {
        "id": "2bd5758d"
      },
      "source": [
        "### Вопрос 1: есть ли зависимость между возвращаемостью игроков и расположением ворот?"
      ]
    },
    {
      "cell_type": "markdown",
      "id": "c5412061",
      "metadata": {
        "id": "c5412061"
      },
      "source": [
        "#### 1.1 Проверьте гипотезу для возвращения через день\n",
        "\n",
        "Так как нам надо проверить зависимость двух категориальных признаков который распределены биномиально, из не-параметрических тестов больше всего подходит хи-квадрат Пирсона, где нулевая гипотеза - признаки независимы, а альтернативная гипотеза - признаки зависимы."
      ]
    },
    {
      "cell_type": "code",
      "execution_count": 44,
      "id": "e7ee4751",
      "metadata": {
        "id": "e7ee4751"
      },
      "outputs": [
        {
          "data": {
            "text/plain": [
              "0.07440965529692188"
            ]
          },
          "execution_count": 44,
          "metadata": {},
          "output_type": "execute_result"
        }
      ],
      "source": [
        "# Построим таблицу сопряженности\n",
        "t = df.groupby('version')['retention_1'].value_counts().unstack()\n",
        "stats.chi2_contingency(t, correction=False)[1]"
      ]
    },
    {
      "cell_type": "markdown",
      "id": "1452a97c",
      "metadata": {},
      "source": [
        "Так как при стандартном уровне значимости 0.05 нулевая гипотеза принимается, а при 0.08 она отвергается, у нас есть слабое доказательство что признаки независимы."
      ]
    },
    {
      "cell_type": "markdown",
      "id": "15ebcdad",
      "metadata": {
        "id": "15ebcdad"
      },
      "source": [
        "#### 2.2 Проверьте гипотезу для возвращения через семь дней\n",
        "\n",
        "Все так же как и в первом пункте"
      ]
    },
    {
      "cell_type": "code",
      "execution_count": 45,
      "id": "1703de87",
      "metadata": {
        "id": "1703de87"
      },
      "outputs": [
        {
          "data": {
            "text/plain": [
              "0.0015542499756142805"
            ]
          },
          "execution_count": 45,
          "metadata": {},
          "output_type": "execute_result"
        }
      ],
      "source": [
        "t = df.groupby('version')['retention_7'].value_counts().unstack()\n",
        "stats.chi2_contingency(t, correction=False)[1]"
      ]
    },
    {
      "cell_type": "markdown",
      "id": "1571d6c3",
      "metadata": {},
      "source": [
        "Так как нулевая гипотеза отвеграется на любом разумном уровне статистической значимости, у нас есть доказательство что существует сильная зависимость между возвращением после семи дней и версией игры."
      ]
    },
    {
      "cell_type": "markdown",
      "id": "498a3f1d",
      "metadata": {
        "id": "498a3f1d"
      },
      "source": [
        "### Вопрос 2: Отличается ли среднее количество раундов в группах gate_40 и gate_30?\n",
        "\n",
        "Имеет смысл предположить что среднее количество раундов имеет нормальное распределение. Так как мы не знаем дисперсию, будем использовать t-test для независимых выборок. Нулевая гипотеза - средние количества равны, Альтернативная - средние количества не равны."
      ]
    },
    {
      "cell_type": "code",
      "execution_count": 46,
      "id": "a2504ebd",
      "metadata": {
        "id": "a2504ebd"
      },
      "outputs": [
        {
          "name": "stdout",
          "output_type": "stream",
          "text": [
            "65901.847550248 10669.501865105782\n"
          ]
        },
        {
          "data": {
            "text/plain": [
              "Ttest_indResult(statistic=0.8854374331270672, pvalue=0.37592438409326223)"
            ]
          },
          "execution_count": 46,
          "metadata": {},
          "output_type": "execute_result"
        }
      ],
      "source": [
        "# Разделим таблицы на 2 по версии\n",
        "gates30 = df[df['version'] == 'gate_30']\n",
        "gates40 = df[df['version'] == 'gate_40']\n",
        "\n",
        "# Проверим дисперсии выборок\n",
        "import numpy as np\n",
        "print(np.var(gates30['sum_gamerounds']), np.var(gates40['sum_gamerounds']))\n",
        "\n",
        "# Между дисперсией двух групп есть огромная разница, поэтому я предположу что дисперсия у популяций разная.\n",
        "\n",
        "stats.ttest_ind(gates30['sum_gamerounds'], gates40['sum_gamerounds'], equal_var=False)"
      ]
    },
    {
      "cell_type": "markdown",
      "id": "3ed894cb",
      "metadata": {},
      "source": [
        "Найденное p-value довольно большое, что означает что нулевая гипотеза принимается на любом разумном уровне статистической значимости. Значит, у нас есть доказательство что среднее количество раундов остается одним и тем же независимо от версии"
      ]
    },
    {
      "cell_type": "markdown",
      "id": "e236e864",
      "metadata": {
        "id": "e236e864"
      },
      "source": [
        "### Вопрос 3: Отличается ли медианное количество раундов в группах gate_40 и gate_30?\n",
        "\n",
        "Для проверки равенства медиан двух выборок, в scipy существует функция median_test. У нее нет особых требований к выборкам поэтому мы можем использовать ее. Нулевая гипотеза - медианы равны, Альтернативная гипотеза - медианы не равны\n",
        "https://docs.scipy.org/doc/scipy/reference/generated/scipy.stats.median_test.html"
      ]
    },
    {
      "cell_type": "code",
      "execution_count": 47,
      "id": "955578c4",
      "metadata": {
        "id": "955578c4"
      },
      "outputs": [
        {
          "data": {
            "text/plain": [
              "(6.415929089260658,\n",
              " 0.011310113730407696,\n",
              " 16.0,\n",
              " array([[22531, 22544],\n",
              "        [22169, 22945]], dtype=int64))"
            ]
          },
          "execution_count": 47,
          "metadata": {},
          "output_type": "execute_result"
        }
      ],
      "source": [
        "from scipy.stats import median_test\n",
        "median_test(gates30['sum_gamerounds'], gates40['sum_gamerounds'])"
      ]
    },
    {
      "cell_type": "markdown",
      "id": "6957ef97",
      "metadata": {},
      "source": [
        "Следуя из значения p-value, наша нулевая гипотеза отвергается практиески на любом разумном уровне статистической значимости, значит есть доказательства что медианы выборок не равны."
      ]
    },
    {
      "cell_type": "markdown",
      "id": "03f0c2b4",
      "metadata": {
        "id": "03f0c2b4"
      },
      "source": [
        "## Задача 4: Время покемонов (3 балла)"
      ]
    },
    {
      "cell_type": "markdown",
      "id": "413f4923",
      "metadata": {
        "id": "413f4923"
      },
      "source": [
        "В данной задаче вам будет необходимо проанализировать различные характеристики покемонов и сравнить их между собой"
      ]
    },
    {
      "cell_type": "markdown",
      "id": "a253705e",
      "metadata": {
        "id": "a253705e"
      },
      "source": [
        "<p style=\"align: center;\"><img align=center src=\"https://proprikol.ru/wp-content/uploads/2020/11/kartinki-pokemonov-2.jpg\"  width=500></p>"
      ]
    },
    {
      "cell_type": "markdown",
      "id": "1810bfee",
      "metadata": {
        "id": "1810bfee"
      },
      "source": [
        "Покемоны - это маленькие существа, которые сражаются друг с другом на соревнованиях. Все покемоны имеют разные характеристики (сила атаки, защиты и т. д.) и относятся к одному или двум так называемым классам (вода, огонь и т. д.). Профессор Оук является изобретателем Pokedex, портативного устройства, которое хранит информацию обо всех существующих покемонах. Как его ведущий специалист по данным, Вы только что получили от него запрос с просьбой осуществить аналитику данных на всех устройствах Pokedex."
      ]
    },
    {
      "cell_type": "markdown",
      "id": "19045811",
      "metadata": {
        "id": "19045811"
      },
      "source": [
        "### Описание данных\n",
        "\n",
        "Профессор Оук скопировал все содержимое память одного устройства Pokedex, в результате чего получился набор данных, с которым Вы будете работать в этой задаче. В этом файле каждая строка представляет характеристики одного покемона:\n",
        "\n",
        "* pid: Numeric - ID покемона\n",
        "* HP: Numeric - Очки здоровья\n",
        "* Attack: Numeric - Сила обычной атаки\n",
        "* Defense: Numeric - Сила обычной защиты\n",
        "* Sp. Atk: Numeric - Сила специальной атаки\n",
        "* Sp. Def: Numeric - Сила специальной защиты\n",
        "* Speed: Numeric - Скорость движений\n",
        "* Legendary: Boolean - «True», если покемон редкий\n",
        "* Class 1: Categorical - Класс покемона\n",
        "* Class 2: Categorical - Класс покемона"
      ]
    },
    {
      "cell_type": "markdown",
      "id": "216b24ea",
      "metadata": {
        "id": "216b24ea"
      },
      "source": [
        "### Вопрос 1"
      ]
    },
    {
      "cell_type": "markdown",
      "id": "83dadefc",
      "metadata": {
        "id": "83dadefc"
      },
      "source": [
        "Профессор Оук подозревает, что покемоны в классе `grass` имеют более сильную обычную атаку, чем у покемонов в классе `rock`. Проверьте, прав ли он, и убедите его в своем выводе статистически. "
      ]
    },
    {
      "cell_type": "markdown",
      "id": "ba3a8ba9",
      "metadata": {},
      "source": [
        "Другими словами, нам нужно доказать гипотезу что в среднем покемоны класса grass имеют большую атаку чем покемоны класса rock. Предположу что нужно протестировать покемонов где основной класс grass или rock. Так как выборка большая а атака распределена нормально и независит от других покемонов, можно использовать Z-test, но так как мы не знаем дисперсию, можно использовать t-test для двух независимых выборок. Нулевая гипотеза - среднее значение атак у покемонов класса grass и rock одинаковы, Альтернативная гипотеза - средняя атака покемона класса grass больше чем у покемонов класса rock"
      ]
    },
    {
      "cell_type": "code",
      "execution_count": 48,
      "id": "fb6a5007",
      "metadata": {
        "id": "fb6a5007"
      },
      "outputs": [
        {
          "data": {
            "text/html": [
              "<div>\n",
              "<style scoped>\n",
              "    .dataframe tbody tr th:only-of-type {\n",
              "        vertical-align: middle;\n",
              "    }\n",
              "\n",
              "    .dataframe tbody tr th {\n",
              "        vertical-align: top;\n",
              "    }\n",
              "\n",
              "    .dataframe thead th {\n",
              "        text-align: right;\n",
              "    }\n",
              "</style>\n",
              "<table border=\"1\" class=\"dataframe\">\n",
              "  <thead>\n",
              "    <tr style=\"text-align: right;\">\n",
              "      <th></th>\n",
              "      <th>pid</th>\n",
              "      <th>Name</th>\n",
              "      <th>Class 1</th>\n",
              "      <th>Class 2</th>\n",
              "      <th>HP</th>\n",
              "      <th>Attack</th>\n",
              "      <th>Defense</th>\n",
              "      <th>Sp. Atk</th>\n",
              "      <th>Sp. Def</th>\n",
              "      <th>Speed</th>\n",
              "      <th>Legendary</th>\n",
              "    </tr>\n",
              "  </thead>\n",
              "  <tbody>\n",
              "    <tr>\n",
              "      <th>0</th>\n",
              "      <td>1</td>\n",
              "      <td>Bulbasaur</td>\n",
              "      <td>Grass</td>\n",
              "      <td>Poison</td>\n",
              "      <td>45</td>\n",
              "      <td>49</td>\n",
              "      <td>49</td>\n",
              "      <td>65</td>\n",
              "      <td>65</td>\n",
              "      <td>45</td>\n",
              "      <td>False</td>\n",
              "    </tr>\n",
              "    <tr>\n",
              "      <th>1</th>\n",
              "      <td>2</td>\n",
              "      <td>Ivysaur</td>\n",
              "      <td>Grass</td>\n",
              "      <td>Poison</td>\n",
              "      <td>60</td>\n",
              "      <td>62</td>\n",
              "      <td>63</td>\n",
              "      <td>80</td>\n",
              "      <td>80</td>\n",
              "      <td>60</td>\n",
              "      <td>False</td>\n",
              "    </tr>\n",
              "    <tr>\n",
              "      <th>2</th>\n",
              "      <td>3</td>\n",
              "      <td>Venusaur</td>\n",
              "      <td>Grass</td>\n",
              "      <td>Poison</td>\n",
              "      <td>80</td>\n",
              "      <td>82</td>\n",
              "      <td>83</td>\n",
              "      <td>100</td>\n",
              "      <td>100</td>\n",
              "      <td>80</td>\n",
              "      <td>False</td>\n",
              "    </tr>\n",
              "    <tr>\n",
              "      <th>3</th>\n",
              "      <td>4</td>\n",
              "      <td>Mega Venusaur</td>\n",
              "      <td>Grass</td>\n",
              "      <td>Poison</td>\n",
              "      <td>80</td>\n",
              "      <td>100</td>\n",
              "      <td>123</td>\n",
              "      <td>122</td>\n",
              "      <td>120</td>\n",
              "      <td>80</td>\n",
              "      <td>False</td>\n",
              "    </tr>\n",
              "    <tr>\n",
              "      <th>4</th>\n",
              "      <td>5</td>\n",
              "      <td>Charmander</td>\n",
              "      <td>Fire</td>\n",
              "      <td>NaN</td>\n",
              "      <td>39</td>\n",
              "      <td>52</td>\n",
              "      <td>43</td>\n",
              "      <td>60</td>\n",
              "      <td>50</td>\n",
              "      <td>65</td>\n",
              "      <td>False</td>\n",
              "    </tr>\n",
              "  </tbody>\n",
              "</table>\n",
              "</div>"
            ],
            "text/plain": [
              "   pid           Name Class 1 Class 2  HP  Attack  Defense  Sp. Atk  Sp. Def  \\\n",
              "0    1      Bulbasaur   Grass  Poison  45      49       49       65       65   \n",
              "1    2        Ivysaur   Grass  Poison  60      62       63       80       80   \n",
              "2    3       Venusaur   Grass  Poison  80      82       83      100      100   \n",
              "3    4  Mega Venusaur   Grass  Poison  80     100      123      122      120   \n",
              "4    5     Charmander    Fire     NaN  39      52       43       60       50   \n",
              "\n",
              "   Speed  Legendary  \n",
              "0     45      False  \n",
              "1     60      False  \n",
              "2     80      False  \n",
              "3     80      False  \n",
              "4     65      False  "
            ]
          },
          "execution_count": 48,
          "metadata": {},
          "output_type": "execute_result"
        }
      ],
      "source": [
        "df = pd.read_csv('pokemon.csv')\n",
        "df.head()"
      ]
    },
    {
      "cell_type": "code",
      "execution_count": 57,
      "id": "6b6286a1",
      "metadata": {},
      "outputs": [
        {
          "name": "stdout",
          "output_type": "stream",
          "text": [
            "634.9683673469387 1219.5268595041323\n",
            "0.001010328246934542\n"
          ]
        }
      ],
      "source": [
        "# Проверим дисперсии выборок\n",
        "grass = df[df['Class 1'] == 'Grass']\n",
        "rock = df[df['Class 1'] == 'Rock']\n",
        "print(np.var(grass['Attack']), np.var(rock['Attack']))\n",
        "# Дисперсии выборок сильно отличаются, будем иметь это ввиду\n",
        "_, pval = stats.ttest_ind(grass['Attack'], rock['Attack'], equal_var=False)\n",
        "# Так как тест односторонний, делим p-value пополам\n",
        "print(pval/2)"
      ]
    },
    {
      "cell_type": "markdown",
      "id": "2f0b4a7b",
      "metadata": {},
      "source": [
        "По результатам теста мы отвергаем нулевую гипотезу, а значит у нас есть доказательство что средняя атака покемонов класса grass не больше средней атаки покемонов класса rock"
      ]
    },
    {
      "cell_type": "markdown",
      "id": "efe3805e",
      "metadata": {
        "id": "efe3805e"
      },
      "source": [
        "### Вопрос 2"
      ]
    },
    {
      "cell_type": "markdown",
      "id": "baeb5aeb",
      "metadata": {
        "id": "baeb5aeb"
      },
      "source": [
        "Также профессор Оук очень хочет проверить, правда ли нет значимой разницы между силой обычной атаки и силой обычной защиты у покемонов. Помогите ему и ответьте на вопрос, подтвердив свои выводы с помощью проверки статистических гипотез.\n",
        "\n",
        "Так как сила атаки и сила защиты тоже, по логике, распределены нормально, можно применить тот же самый t-test что и выше. Нулевая гипотеза - средняя сила атаки равна средней силе защиты, Альтернативная гипотеза - средняя сила атаки не равна средней силе защиты"
      ]
    },
    {
      "cell_type": "code",
      "execution_count": 50,
      "id": "a8ae940e",
      "metadata": {
        "id": "a8ae940e"
      },
      "outputs": [
        {
          "name": "stdout",
          "output_type": "stream",
          "text": [
            "1052.1637484375 971.19519375\n"
          ]
        },
        {
          "data": {
            "text/plain": [
              "Ttest_indResult(statistic=3.2417640740423126, pvalue=0.0012123980547321456)"
            ]
          },
          "execution_count": 50,
          "metadata": {},
          "output_type": "execute_result"
        }
      ],
      "source": [
        "print(np.var(df['Attack']), np.var(df['Defense']))\n",
        "# Дисперися обоих признаков из выборки примерно равна\n",
        "stats.ttest_ind(df['Attack'], df['Defense'], equal_var=True)"
      ]
    },
    {
      "cell_type": "markdown",
      "id": "38ec16c4",
      "metadata": {},
      "source": [
        "По результатам теста pvalue слишком мало, поэтому нулевая гипотеза отвергается на любом разумном уровне значимости. и у нас есть доказательство что все же есть разница между силой атаки и силой защиты"
      ]
    },
    {
      "cell_type": "markdown",
      "id": "55c372da",
      "metadata": {
        "id": "55c372da"
      },
      "source": [
        "### Вопрос 3"
      ]
    },
    {
      "cell_type": "markdown",
      "id": "781cbb94",
      "metadata": {
        "id": "781cbb94"
      },
      "source": [
        "И последний вопрос, который мучает профессора Оука: правда ли, что средняя скорость покемонов превышает 66.6 ? Сформулируйте подходящие гипотезы и помогите профессору Оуку, ответив на вопрос.\n",
        "\n",
        "Здесь можно использовать стандартный ztest для параметрической гипотезы, ввиду предположений о данных из решения первого вопроса. Нулевая гипотеза - средняя скорость равна 66.6, Альтернативная гипотеза - средняя скорость больше чем 66.6"
      ]
    },
    {
      "cell_type": "code",
      "execution_count": 51,
      "id": "aefbfc32",
      "metadata": {
        "id": "aefbfc32"
      },
      "outputs": [
        {
          "data": {
            "text/plain": [
              "(1.6326941356636653, 0.05126667071552446)"
            ]
          },
          "execution_count": 51,
          "metadata": {},
          "output_type": "execute_result"
        }
      ],
      "source": [
        "from statsmodels.stats.weightstats import ztest\n",
        "ztest(x1 = df['Speed'].tolist(), value = 66.6, alternative = 'larger')"
      ]
    },
    {
      "cell_type": "markdown",
      "id": "e0735f71",
      "metadata": {},
      "source": [
        "Формально, так как p-value > 0.05, мы принимаем нулевую гипотезу, и у нас есть доказательства что средняя скорость равна 66.6. Но по факту, так как p-value очень близко к 0.05, этот тест практически не имеет никакой силы, и расчитывать на его ответ не стоит"
      ]
    }
  ],
  "metadata": {
    "colab": {
      "name": "DZ3_DS.ipynb",
      "provenance": []
    },
    "interpreter": {
      "hash": "343199050d598d2a78c90ac803698915da1c299ca8339451b60b57ba9d8b1b21"
    },
    "kernelspec": {
      "display_name": "Python 3.7.9 64-bit",
      "language": "python",
      "name": "python3"
    },
    "language_info": {
      "codemirror_mode": {
        "name": "ipython",
        "version": 3
      },
      "file_extension": ".py",
      "mimetype": "text/x-python",
      "name": "python",
      "nbconvert_exporter": "python",
      "pygments_lexer": "ipython3",
      "version": "3.7.9"
    }
  },
  "nbformat": 4,
  "nbformat_minor": 5
}
