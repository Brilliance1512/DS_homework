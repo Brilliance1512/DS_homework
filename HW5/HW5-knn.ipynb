{
 "cells": [
  {
   "cell_type": "markdown",
   "metadata": {},
   "source": [
    "## Введение в DS на УБ и МиРА (2022)\n",
    "### Домашнее задание #5:  Ближайшие соседи\n",
    "Дедлайн: 19 июня 2022 года, 23:59\n",
    "Правила игры\n",
    "\n",
    "Домашнее задание состоит из двух частей, которые оцениваются в 3 - 7 балла. Все пункты в пределах одной части имеют одинаковый вес.\n",
    "\n",
    "Решения принимаются до 19 июня 2022 года, 23:59 МСК включительно. Работы, отправленные после дедлайна, не проверяются. Дата и время сдачи определяются по последнему запушенному в репозиторий коммиту (можно увидеть на GitHub, наведя мышкой на указатель срока (например, 3 days ago) справа от файлов).\n",
    "\n",
    "Все решения нужно загрузить в личный репозиторий на GitHub Classroom.\n",
    "\n",
    "Разрешается использовать без доказательства любые результаты, встречавшиеся на лекциях или семинарах по курсу, если получение этих результатов не является вопросом задания. Разрешается использовать любые свободные источники с указанием ссылки на них.\n",
    "\n",
    "Плагиат не допускается. При обнаружении случаев списывания, \n",
    "0\n",
    " за работу выставляется всем участникам нарушения, даже если можно установить, кто у кого списал.\n"
   ]
  },
  {
   "cell_type": "markdown",
   "metadata": {},
   "source": [
    " ---"
   ]
  },
  {
   "cell_type": "markdown",
   "metadata": {},
   "source": [
    "В этом задании будем предсказывать удовлетворенность студентов их программой (`LikeDegree`). Скачайте  Student_Behaviour.csv, содержащую информацию о студентов бакалавриата.\n"
   ]
  },
  {
   "cell_type": "markdown",
   "metadata": {},
   "source": [
    "### Часть 1: Исследуем данные\n",
    "**Задание 1.** Загрузите данные из файла Student_Behaviour.csv. Выведите первые 5 строк таблицы."
   ]
  },
  {
   "cell_type": "code",
   "execution_count": 258,
   "metadata": {},
   "outputs": [
    {
     "data": {
      "text/html": [
       "<div>\n",
       "<style scoped>\n",
       "    .dataframe tbody tr th:only-of-type {\n",
       "        vertical-align: middle;\n",
       "    }\n",
       "\n",
       "    .dataframe tbody tr th {\n",
       "        vertical-align: top;\n",
       "    }\n",
       "\n",
       "    .dataframe thead th {\n",
       "        text-align: right;\n",
       "    }\n",
       "</style>\n",
       "<table border=\"1\" class=\"dataframe\">\n",
       "  <thead>\n",
       "    <tr style=\"text-align: right;\">\n",
       "      <th></th>\n",
       "      <th>CertificationCourses</th>\n",
       "      <th>Gender</th>\n",
       "      <th>Department</th>\n",
       "      <th>Height(CM)</th>\n",
       "      <th>Weight(KG)</th>\n",
       "      <th>10Mark</th>\n",
       "      <th>12Mark</th>\n",
       "      <th>CollegeMark</th>\n",
       "      <th>Hobbies</th>\n",
       "      <th>DailyStudingTime</th>\n",
       "      <th>PreferToStudyIn</th>\n",
       "      <th>SalaryExpectation</th>\n",
       "      <th>LikeDegree</th>\n",
       "      <th>CareerBasedonDegree</th>\n",
       "      <th>GamesSpendingTime</th>\n",
       "      <th>TravellingTime</th>\n",
       "      <th>StressLevel</th>\n",
       "      <th>FinancialStatus</th>\n",
       "      <th>PartTimeJob?</th>\n",
       "    </tr>\n",
       "  </thead>\n",
       "  <tbody>\n",
       "    <tr>\n",
       "      <th>0</th>\n",
       "      <td>No</td>\n",
       "      <td>Male</td>\n",
       "      <td>BCA</td>\n",
       "      <td>100.0</td>\n",
       "      <td>58.0</td>\n",
       "      <td>79.0</td>\n",
       "      <td>65.0</td>\n",
       "      <td>80.0</td>\n",
       "      <td>Video Games</td>\n",
       "      <td>0 - 30 minute</td>\n",
       "      <td>Morning</td>\n",
       "      <td>40000</td>\n",
       "      <td>No</td>\n",
       "      <td>50%</td>\n",
       "      <td>1.30 - 2 hour</td>\n",
       "      <td>30 - 60 minutes</td>\n",
       "      <td>Bad</td>\n",
       "      <td>Bad</td>\n",
       "      <td>No</td>\n",
       "    </tr>\n",
       "    <tr>\n",
       "      <th>1</th>\n",
       "      <td>No</td>\n",
       "      <td>Female</td>\n",
       "      <td>BCA</td>\n",
       "      <td>90.0</td>\n",
       "      <td>40.0</td>\n",
       "      <td>70.0</td>\n",
       "      <td>80.0</td>\n",
       "      <td>70.0</td>\n",
       "      <td>Cinema</td>\n",
       "      <td>30 - 60 minute</td>\n",
       "      <td>Morning</td>\n",
       "      <td>15000</td>\n",
       "      <td>Yes</td>\n",
       "      <td>75%</td>\n",
       "      <td>1 - 1.30 hour</td>\n",
       "      <td>0 - 30 minutes</td>\n",
       "      <td>Bad</td>\n",
       "      <td>Bad</td>\n",
       "      <td>No</td>\n",
       "    </tr>\n",
       "    <tr>\n",
       "      <th>2</th>\n",
       "      <td>Yes</td>\n",
       "      <td>Male</td>\n",
       "      <td>BCA</td>\n",
       "      <td>159.0</td>\n",
       "      <td>78.0</td>\n",
       "      <td>69.5</td>\n",
       "      <td>61.0</td>\n",
       "      <td>55.0</td>\n",
       "      <td>Cinema</td>\n",
       "      <td>1 - 2 Hour</td>\n",
       "      <td>Anytime</td>\n",
       "      <td>13000</td>\n",
       "      <td>Yes</td>\n",
       "      <td>50%</td>\n",
       "      <td>More than 2 hour</td>\n",
       "      <td>30 - 60 minutes</td>\n",
       "      <td>Awful</td>\n",
       "      <td>Bad</td>\n",
       "      <td>No</td>\n",
       "    </tr>\n",
       "    <tr>\n",
       "      <th>3</th>\n",
       "      <td>Yes</td>\n",
       "      <td>Female</td>\n",
       "      <td>BCA</td>\n",
       "      <td>147.0</td>\n",
       "      <td>20.0</td>\n",
       "      <td>70.0</td>\n",
       "      <td>59.0</td>\n",
       "      <td>58.0</td>\n",
       "      <td>Reading books</td>\n",
       "      <td>1 - 2 Hour</td>\n",
       "      <td>Anytime</td>\n",
       "      <td>1500000</td>\n",
       "      <td>No</td>\n",
       "      <td>50%</td>\n",
       "      <td>1.30 - 2 hour</td>\n",
       "      <td>0 - 30 minutes</td>\n",
       "      <td>Bad</td>\n",
       "      <td>good</td>\n",
       "      <td>No</td>\n",
       "    </tr>\n",
       "    <tr>\n",
       "      <th>4</th>\n",
       "      <td>No</td>\n",
       "      <td>Male</td>\n",
       "      <td>BCA</td>\n",
       "      <td>170.0</td>\n",
       "      <td>54.0</td>\n",
       "      <td>40.0</td>\n",
       "      <td>65.0</td>\n",
       "      <td>30.0</td>\n",
       "      <td>Video Games</td>\n",
       "      <td>30 - 60 minute</td>\n",
       "      <td>Morning</td>\n",
       "      <td>50000</td>\n",
       "      <td>Yes</td>\n",
       "      <td>25%</td>\n",
       "      <td>1.30 - 2 hour</td>\n",
       "      <td>30 - 60 minutes</td>\n",
       "      <td>Good</td>\n",
       "      <td>good</td>\n",
       "      <td>No</td>\n",
       "    </tr>\n",
       "  </tbody>\n",
       "</table>\n",
       "</div>"
      ],
      "text/plain": [
       "  CertificationCourses  Gender Department  Height(CM)  Weight(KG)  10Mark  \\\n",
       "0                   No    Male        BCA       100.0        58.0    79.0   \n",
       "1                   No  Female        BCA        90.0        40.0    70.0   \n",
       "2                  Yes    Male        BCA       159.0        78.0    69.5   \n",
       "3                  Yes  Female        BCA       147.0        20.0    70.0   \n",
       "4                   No    Male        BCA       170.0        54.0    40.0   \n",
       "\n",
       "   12Mark  CollegeMark        Hobbies DailyStudingTime PreferToStudyIn  \\\n",
       "0    65.0         80.0    Video Games    0 - 30 minute         Morning   \n",
       "1    80.0         70.0         Cinema   30 - 60 minute         Morning   \n",
       "2    61.0         55.0         Cinema       1 - 2 Hour         Anytime   \n",
       "3    59.0         58.0  Reading books       1 - 2 Hour         Anytime   \n",
       "4    65.0         30.0    Video Games   30 - 60 minute         Morning   \n",
       "\n",
       "   SalaryExpectation LikeDegree CareerBasedonDegree GamesSpendingTime  \\\n",
       "0              40000         No                 50%     1.30 - 2 hour   \n",
       "1              15000        Yes                 75%     1 - 1.30 hour   \n",
       "2              13000        Yes                 50%  More than 2 hour   \n",
       "3            1500000         No                 50%     1.30 - 2 hour   \n",
       "4              50000        Yes                 25%     1.30 - 2 hour   \n",
       "\n",
       "   TravellingTime  StressLevel  FinancialStatus PartTimeJob?  \n",
       "0  30 - 60 minutes          Bad             Bad           No  \n",
       "1   0 - 30 minutes          Bad             Bad           No  \n",
       "2  30 - 60 minutes        Awful             Bad           No  \n",
       "3   0 - 30 minutes          Bad            good           No  \n",
       "4  30 - 60 minutes         Good            good           No  "
      ]
     },
     "execution_count": 258,
     "metadata": {},
     "output_type": "execute_result"
    }
   ],
   "source": [
    "import pandas as pd\n",
    "df = pd.read_csv('Student_Behaviour.csv')\n",
    "df.head()"
   ]
  },
  {
   "cell_type": "markdown",
   "metadata": {},
   "source": [
    "**Задание 2.** Проверьте колонки на наличие пропусков, избавьтесь их. "
   ]
  },
  {
   "cell_type": "code",
   "execution_count": 259,
   "metadata": {},
   "outputs": [
    {
     "name": "stdout",
     "output_type": "stream",
     "text": [
      "<class 'pandas.core.frame.DataFrame'>\n",
      "RangeIndex: 235 entries, 0 to 234\n",
      "Data columns (total 19 columns):\n",
      " #   Column                Non-Null Count  Dtype  \n",
      "---  ------                --------------  -----  \n",
      " 0   CertificationCourses  235 non-null    object \n",
      " 1   Gender                235 non-null    object \n",
      " 2   Department            235 non-null    object \n",
      " 3   Height(CM)            235 non-null    float64\n",
      " 4   Weight(KG)            235 non-null    float64\n",
      " 5   10Mark                235 non-null    float64\n",
      " 6   12Mark                235 non-null    float64\n",
      " 7   CollegeMark           235 non-null    float64\n",
      " 8   Hobbies               235 non-null    object \n",
      " 9   DailyStudingTime      235 non-null    object \n",
      " 10  PreferToStudyIn       235 non-null    object \n",
      " 11  SalaryExpectation     235 non-null    int64  \n",
      " 12  LikeDegree            235 non-null    object \n",
      " 13  CareerBasedonDegree   235 non-null    object \n",
      " 14  GamesSpendingTime     235 non-null    object \n",
      " 15  TravellingTime        235 non-null    object \n",
      " 16  StressLevel           235 non-null    object \n",
      " 17  FinancialStatus       235 non-null    object \n",
      " 18  PartTimeJob?          235 non-null    object \n",
      "dtypes: float64(5), int64(1), object(13)\n",
      "memory usage: 35.0+ KB\n"
     ]
    }
   ],
   "source": [
    "df.info()\n",
    "# Пропусков нет"
   ]
  },
  {
   "cell_type": "markdown",
   "metadata": {},
   "source": [
    "**Задание 3.**  Колонку `CareerBasedonDegree` приведите к числовому виду."
   ]
  },
  {
   "cell_type": "code",
   "execution_count": 260,
   "metadata": {},
   "outputs": [
    {
     "data": {
      "text/plain": [
       "0      50\n",
       "1      75\n",
       "2      50\n",
       "3      50\n",
       "4      25\n",
       "       ..\n",
       "230    50\n",
       "231    75\n",
       "232    50\n",
       "233    75\n",
       "234    75\n",
       "Name: CareerBasedonDegree, Length: 235, dtype: int64"
      ]
     },
     "execution_count": 260,
     "metadata": {},
     "output_type": "execute_result"
    }
   ],
   "source": [
    "# Судя по формату данных этого столбика, нужно просто убрать процент в конце\n",
    "df['CareerBasedonDegree'] = df['CareerBasedonDegree'].apply(lambda x: int(x[:-1]))\n",
    "df['CareerBasedonDegree']"
   ]
  },
  {
   "cell_type": "markdown",
   "metadata": {},
   "source": [
    "**Задание 4.**  В датасете есть 3 поля, с суффиксом `Time`, данные в них строковые, которые означают временной интервал. Извлеките минимальное время(левую границу интервала) для каждой из этих переменных и переведите в минуты, запишите в новые столбцы, удалите старые."
   ]
  },
  {
   "cell_type": "code",
   "execution_count": 261,
   "metadata": {},
   "outputs": [
    {
     "data": {
      "text/html": [
       "<div>\n",
       "<style scoped>\n",
       "    .dataframe tbody tr th:only-of-type {\n",
       "        vertical-align: middle;\n",
       "    }\n",
       "\n",
       "    .dataframe tbody tr th {\n",
       "        vertical-align: top;\n",
       "    }\n",
       "\n",
       "    .dataframe thead th {\n",
       "        text-align: right;\n",
       "    }\n",
       "</style>\n",
       "<table border=\"1\" class=\"dataframe\">\n",
       "  <thead>\n",
       "    <tr style=\"text-align: right;\">\n",
       "      <th></th>\n",
       "      <th>CertificationCourses</th>\n",
       "      <th>Gender</th>\n",
       "      <th>Department</th>\n",
       "      <th>Height(CM)</th>\n",
       "      <th>Weight(KG)</th>\n",
       "      <th>10Mark</th>\n",
       "      <th>12Mark</th>\n",
       "      <th>CollegeMark</th>\n",
       "      <th>Hobbies</th>\n",
       "      <th>DailyStudingTime</th>\n",
       "      <th>PreferToStudyIn</th>\n",
       "      <th>SalaryExpectation</th>\n",
       "      <th>LikeDegree</th>\n",
       "      <th>CareerBasedonDegree</th>\n",
       "      <th>GamesSpendingTime</th>\n",
       "      <th>StressLevel</th>\n",
       "      <th>FinancialStatus</th>\n",
       "      <th>PartTimeJob?</th>\n",
       "      <th>TravellingTime</th>\n",
       "    </tr>\n",
       "  </thead>\n",
       "  <tbody>\n",
       "    <tr>\n",
       "      <th>0</th>\n",
       "      <td>No</td>\n",
       "      <td>Male</td>\n",
       "      <td>BCA</td>\n",
       "      <td>100.0</td>\n",
       "      <td>58.0</td>\n",
       "      <td>79.0</td>\n",
       "      <td>65.0</td>\n",
       "      <td>80.0</td>\n",
       "      <td>Video Games</td>\n",
       "      <td>0</td>\n",
       "      <td>Morning</td>\n",
       "      <td>40000</td>\n",
       "      <td>No</td>\n",
       "      <td>50</td>\n",
       "      <td>90</td>\n",
       "      <td>Bad</td>\n",
       "      <td>Bad</td>\n",
       "      <td>No</td>\n",
       "      <td>30</td>\n",
       "    </tr>\n",
       "    <tr>\n",
       "      <th>1</th>\n",
       "      <td>No</td>\n",
       "      <td>Female</td>\n",
       "      <td>BCA</td>\n",
       "      <td>90.0</td>\n",
       "      <td>40.0</td>\n",
       "      <td>70.0</td>\n",
       "      <td>80.0</td>\n",
       "      <td>70.0</td>\n",
       "      <td>Cinema</td>\n",
       "      <td>30</td>\n",
       "      <td>Morning</td>\n",
       "      <td>15000</td>\n",
       "      <td>Yes</td>\n",
       "      <td>75</td>\n",
       "      <td>60</td>\n",
       "      <td>Bad</td>\n",
       "      <td>Bad</td>\n",
       "      <td>No</td>\n",
       "      <td>0</td>\n",
       "    </tr>\n",
       "    <tr>\n",
       "      <th>2</th>\n",
       "      <td>Yes</td>\n",
       "      <td>Male</td>\n",
       "      <td>BCA</td>\n",
       "      <td>159.0</td>\n",
       "      <td>78.0</td>\n",
       "      <td>69.5</td>\n",
       "      <td>61.0</td>\n",
       "      <td>55.0</td>\n",
       "      <td>Cinema</td>\n",
       "      <td>60</td>\n",
       "      <td>Anytime</td>\n",
       "      <td>13000</td>\n",
       "      <td>Yes</td>\n",
       "      <td>50</td>\n",
       "      <td>120</td>\n",
       "      <td>Awful</td>\n",
       "      <td>Bad</td>\n",
       "      <td>No</td>\n",
       "      <td>30</td>\n",
       "    </tr>\n",
       "    <tr>\n",
       "      <th>3</th>\n",
       "      <td>Yes</td>\n",
       "      <td>Female</td>\n",
       "      <td>BCA</td>\n",
       "      <td>147.0</td>\n",
       "      <td>20.0</td>\n",
       "      <td>70.0</td>\n",
       "      <td>59.0</td>\n",
       "      <td>58.0</td>\n",
       "      <td>Reading books</td>\n",
       "      <td>60</td>\n",
       "      <td>Anytime</td>\n",
       "      <td>1500000</td>\n",
       "      <td>No</td>\n",
       "      <td>50</td>\n",
       "      <td>90</td>\n",
       "      <td>Bad</td>\n",
       "      <td>good</td>\n",
       "      <td>No</td>\n",
       "      <td>0</td>\n",
       "    </tr>\n",
       "    <tr>\n",
       "      <th>4</th>\n",
       "      <td>No</td>\n",
       "      <td>Male</td>\n",
       "      <td>BCA</td>\n",
       "      <td>170.0</td>\n",
       "      <td>54.0</td>\n",
       "      <td>40.0</td>\n",
       "      <td>65.0</td>\n",
       "      <td>30.0</td>\n",
       "      <td>Video Games</td>\n",
       "      <td>30</td>\n",
       "      <td>Morning</td>\n",
       "      <td>50000</td>\n",
       "      <td>Yes</td>\n",
       "      <td>25</td>\n",
       "      <td>90</td>\n",
       "      <td>Good</td>\n",
       "      <td>good</td>\n",
       "      <td>No</td>\n",
       "      <td>30</td>\n",
       "    </tr>\n",
       "  </tbody>\n",
       "</table>\n",
       "</div>"
      ],
      "text/plain": [
       "  CertificationCourses  Gender Department  Height(CM)  Weight(KG)  10Mark  \\\n",
       "0                   No    Male        BCA       100.0        58.0    79.0   \n",
       "1                   No  Female        BCA        90.0        40.0    70.0   \n",
       "2                  Yes    Male        BCA       159.0        78.0    69.5   \n",
       "3                  Yes  Female        BCA       147.0        20.0    70.0   \n",
       "4                   No    Male        BCA       170.0        54.0    40.0   \n",
       "\n",
       "   12Mark  CollegeMark        Hobbies  DailyStudingTime PreferToStudyIn  \\\n",
       "0    65.0         80.0    Video Games                 0         Morning   \n",
       "1    80.0         70.0         Cinema                30         Morning   \n",
       "2    61.0         55.0         Cinema                60         Anytime   \n",
       "3    59.0         58.0  Reading books                60         Anytime   \n",
       "4    65.0         30.0    Video Games                30         Morning   \n",
       "\n",
       "   SalaryExpectation LikeDegree  CareerBasedonDegree  GamesSpendingTime  \\\n",
       "0              40000         No                   50                 90   \n",
       "1              15000        Yes                   75                 60   \n",
       "2              13000        Yes                   50                120   \n",
       "3            1500000         No                   50                 90   \n",
       "4              50000        Yes                   25                 90   \n",
       "\n",
       "  StressLevel  FinancialStatus PartTimeJob?  TravellingTime  \n",
       "0          Bad             Bad           No              30  \n",
       "1          Bad             Bad           No               0  \n",
       "2        Awful             Bad           No              30  \n",
       "3          Bad            good           No               0  \n",
       "4         Good            good           No              30  "
      ]
     },
     "execution_count": 261,
     "metadata": {},
     "output_type": "execute_result"
    }
   ],
   "source": [
    "df.columns\n",
    "\n",
    "df['DailyStudingTime'].unique()\n",
    "df['DailyStudingTime'] = df['DailyStudingTime'].replace('More Than 4 hour', '4 - what')\n",
    "df['DailyStudingTime'] = df['DailyStudingTime'].replace('0 - 30 minute', '0 - wha')\n",
    "df['DailyStudingTime'] = df['DailyStudingTime'].replace('30 - 60 minute', '0.5 - ha')\n",
    "df['DailyStudingTime'] = df['DailyStudingTime'].apply(lambda x: int(60*(float(x.split(' ')[0]))))\n",
    "\n",
    "df['GamesSpendingTime'].unique()\n",
    "df['GamesSpendingTime'] = df['GamesSpendingTime'].replace('1.30 - 2 hour', '90 - what')\n",
    "df['GamesSpendingTime'] = df['GamesSpendingTime'].replace('1 - 1.30 hour', '60 - wha')\n",
    "df['GamesSpendingTime'] = df['GamesSpendingTime'].replace('More than 2 hour', '120 - ha')\n",
    "df['GamesSpendingTime'] = df['GamesSpendingTime'].apply(lambda x: int(x.split(' ')[0]))\n",
    "\n",
    "df['TravellingTime '].unique()\n",
    "df['TravellingTime '] = df['TravellingTime '].replace('more than 3 hour', '3 - what')\n",
    "df['TravellingTime '] = df['TravellingTime '].replace('0 - 30 minutes', '0 - wha')\n",
    "df['TravellingTime '] = df['TravellingTime '].replace('30 - 60 minutes', '0.5 - ha')\n",
    "df['TravellingTime'] = df['TravellingTime '].apply(lambda x: int(60*(float(x.split(' ')[0]))))\n",
    "df = df.drop('TravellingTime ', axis = 1)\n",
    "\n",
    "df.head()"
   ]
  },
  {
   "cell_type": "markdown",
   "metadata": {},
   "source": [
    "**Задание 5.**  Выбрете колонки (непрерывные переменные), которые будете использовать для предсказания целевой переменной с помощью knn"
   ]
  },
  {
   "cell_type": "code",
   "execution_count": 262,
   "metadata": {},
   "outputs": [],
   "source": [
    "# Очень сомневаюсь что рост и вес имеют хоть какую то зависимость с нашей целевой переменной (+ там бред какой то в признаке)\n",
    "good_feats = ['10Mark', '12Mark', 'CollegeMark', 'DailyStudingTime', \n",
    "              'SalaryExpectation', 'CareerBasedonDegree', 'GamesSpendingTime', 'TravellingTime']"
   ]
  },
  {
   "cell_type": "markdown",
   "metadata": {},
   "source": [
    "**Задание 6.**  Есть ли в выбранных колонках выбросы? (Пока не нужно их чистить)"
   ]
  },
  {
   "cell_type": "code",
   "execution_count": 263,
   "metadata": {},
   "outputs": [
    {
     "data": {
      "text/html": [
       "<div>\n",
       "<style scoped>\n",
       "    .dataframe tbody tr th:only-of-type {\n",
       "        vertical-align: middle;\n",
       "    }\n",
       "\n",
       "    .dataframe tbody tr th {\n",
       "        vertical-align: top;\n",
       "    }\n",
       "\n",
       "    .dataframe thead th {\n",
       "        text-align: right;\n",
       "    }\n",
       "</style>\n",
       "<table border=\"1\" class=\"dataframe\">\n",
       "  <thead>\n",
       "    <tr style=\"text-align: right;\">\n",
       "      <th></th>\n",
       "      <th>10Mark</th>\n",
       "      <th>12Mark</th>\n",
       "      <th>CollegeMark</th>\n",
       "      <th>DailyStudingTime</th>\n",
       "      <th>SalaryExpectation</th>\n",
       "      <th>CareerBasedonDegree</th>\n",
       "      <th>GamesSpendingTime</th>\n",
       "      <th>TravellingTime</th>\n",
       "    </tr>\n",
       "  </thead>\n",
       "  <tbody>\n",
       "    <tr>\n",
       "      <th>count</th>\n",
       "      <td>235.000000</td>\n",
       "      <td>235.000000</td>\n",
       "      <td>235.000000</td>\n",
       "      <td>235.000000</td>\n",
       "      <td>2.350000e+02</td>\n",
       "      <td>235.000000</td>\n",
       "      <td>235.000000</td>\n",
       "      <td>235.000000</td>\n",
       "    </tr>\n",
       "    <tr>\n",
       "      <th>mean</th>\n",
       "      <td>76.842128</td>\n",
       "      <td>68.780128</td>\n",
       "      <td>70.660553</td>\n",
       "      <td>57.829787</td>\n",
       "      <td>3.248168e+04</td>\n",
       "      <td>69.574468</td>\n",
       "      <td>49.731915</td>\n",
       "      <td>48.127660</td>\n",
       "    </tr>\n",
       "    <tr>\n",
       "      <th>std</th>\n",
       "      <td>13.050800</td>\n",
       "      <td>11.016533</td>\n",
       "      <td>15.727446</td>\n",
       "      <td>58.433730</td>\n",
       "      <td>1.113146e+05</td>\n",
       "      <td>21.178671</td>\n",
       "      <td>39.137611</td>\n",
       "      <td>45.276745</td>\n",
       "    </tr>\n",
       "    <tr>\n",
       "      <th>min</th>\n",
       "      <td>7.400000</td>\n",
       "      <td>45.000000</td>\n",
       "      <td>1.000000</td>\n",
       "      <td>0.000000</td>\n",
       "      <td>0.000000e+00</td>\n",
       "      <td>0.000000</td>\n",
       "      <td>0.000000</td>\n",
       "      <td>0.000000</td>\n",
       "    </tr>\n",
       "    <tr>\n",
       "      <th>25%</th>\n",
       "      <td>70.000000</td>\n",
       "      <td>60.000000</td>\n",
       "      <td>60.000000</td>\n",
       "      <td>30.000000</td>\n",
       "      <td>1.500000e+04</td>\n",
       "      <td>50.000000</td>\n",
       "      <td>30.000000</td>\n",
       "      <td>30.000000</td>\n",
       "    </tr>\n",
       "    <tr>\n",
       "      <th>50%</th>\n",
       "      <td>80.000000</td>\n",
       "      <td>69.000000</td>\n",
       "      <td>70.000000</td>\n",
       "      <td>30.000000</td>\n",
       "      <td>2.000000e+04</td>\n",
       "      <td>75.000000</td>\n",
       "      <td>30.000000</td>\n",
       "      <td>30.000000</td>\n",
       "    </tr>\n",
       "    <tr>\n",
       "      <th>75%</th>\n",
       "      <td>86.250000</td>\n",
       "      <td>76.000000</td>\n",
       "      <td>80.000000</td>\n",
       "      <td>60.000000</td>\n",
       "      <td>2.500000e+04</td>\n",
       "      <td>75.000000</td>\n",
       "      <td>75.000000</td>\n",
       "      <td>60.000000</td>\n",
       "    </tr>\n",
       "    <tr>\n",
       "      <th>max</th>\n",
       "      <td>98.000000</td>\n",
       "      <td>94.000000</td>\n",
       "      <td>100.000000</td>\n",
       "      <td>240.000000</td>\n",
       "      <td>1.500000e+06</td>\n",
       "      <td>100.000000</td>\n",
       "      <td>120.000000</td>\n",
       "      <td>180.000000</td>\n",
       "    </tr>\n",
       "  </tbody>\n",
       "</table>\n",
       "</div>"
      ],
      "text/plain": [
       "           10Mark      12Mark  CollegeMark  DailyStudingTime  \\\n",
       "count  235.000000  235.000000   235.000000        235.000000   \n",
       "mean    76.842128   68.780128    70.660553         57.829787   \n",
       "std     13.050800   11.016533    15.727446         58.433730   \n",
       "min      7.400000   45.000000     1.000000          0.000000   \n",
       "25%     70.000000   60.000000    60.000000         30.000000   \n",
       "50%     80.000000   69.000000    70.000000         30.000000   \n",
       "75%     86.250000   76.000000    80.000000         60.000000   \n",
       "max     98.000000   94.000000   100.000000        240.000000   \n",
       "\n",
       "       SalaryExpectation  CareerBasedonDegree  GamesSpendingTime  \\\n",
       "count       2.350000e+02           235.000000         235.000000   \n",
       "mean        3.248168e+04            69.574468          49.731915   \n",
       "std         1.113146e+05            21.178671          39.137611   \n",
       "min         0.000000e+00             0.000000           0.000000   \n",
       "25%         1.500000e+04            50.000000          30.000000   \n",
       "50%         2.000000e+04            75.000000          30.000000   \n",
       "75%         2.500000e+04            75.000000          75.000000   \n",
       "max         1.500000e+06           100.000000         120.000000   \n",
       "\n",
       "       TravellingTime  \n",
       "count      235.000000  \n",
       "mean        48.127660  \n",
       "std         45.276745  \n",
       "min          0.000000  \n",
       "25%         30.000000  \n",
       "50%         30.000000  \n",
       "75%         60.000000  \n",
       "max        180.000000  "
      ]
     },
     "execution_count": 263,
     "metadata": {},
     "output_type": "execute_result"
    }
   ],
   "source": [
    "df[good_feats].describe()\n",
    "# Данные выглядят неплохо, за исключением большого максимума у SalaryExpectation"
   ]
  },
  {
   "cell_type": "markdown",
   "metadata": {},
   "source": [
    "**Задание 7.**  Как распределена целевая переменная? Нет ли дисбаланса классов? Если есть дисбаланс, какие метрики качества классификатора можно использовать, какие нет? Рассматриваем метрики, которые проходили в рамках курса."
   ]
  },
  {
   "cell_type": "code",
   "execution_count": 264,
   "metadata": {},
   "outputs": [
    {
     "data": {
      "text/plain": [
       "Yes    0.914894\n",
       "No     0.085106\n",
       "Name: LikeDegree, dtype: float64"
      ]
     },
     "execution_count": 264,
     "metadata": {},
     "output_type": "execute_result"
    }
   ],
   "source": [
    "df['LikeDegree'].value_counts()/df.shape[0]\n",
    "# Ну логично что ЦП распределена по Бернулли с p = 0.914894"
   ]
  },
  {
   "cell_type": "markdown",
   "metadata": {},
   "source": [
    "Ну логично что ЦП распределена по Бернулли с p = 0.914894. Имея такой сильный дисбаланс, мы можем использовать далеко не все метрики. Например accuracy может иметь 92% точности, но он скорее всего будет просто предсказывать Yes во всех случаях. Для дисбалансных классов существуют Recall и Precision которые учитывают цену ошибок, а F1 score позволяет их скомбинировать"
   ]
  },
  {
   "cell_type": "markdown",
   "metadata": {},
   "source": [
    "**Задание 8.**  Переведите целевую переменную к численному формату."
   ]
  },
  {
   "cell_type": "code",
   "execution_count": 265,
   "metadata": {},
   "outputs": [],
   "source": [
    "from sklearn.preprocessing import LabelEncoder\n",
    "le = LabelEncoder()\n",
    "df['LikeDegree'] = le.fit_transform(df['LikeDegree'])"
   ]
  },
  {
   "cell_type": "markdown",
   "metadata": {},
   "source": [
    "### Часть 2: Строим модели\n",
    "**Задание 1.** Разбейте выборку на обучающую и тестовую. "
   ]
  },
  {
   "cell_type": "code",
   "execution_count": 266,
   "metadata": {},
   "outputs": [],
   "source": [
    "from sklearn.model_selection import train_test_split\n",
    "X = df[good_feats]\n",
    "y = df['LikeDegree']\n",
    "X_train, X_test, y_train, y_test = train_test_split(X, y, test_size=0.3, random_state=333, stratify=df['LikeDegree'])"
   ]
  },
  {
   "cell_type": "markdown",
   "metadata": {},
   "source": [
    "**Задание 2.** Постройте наивную модель предсказания для целевой переменной. Наивная модель - это самая простая модель, без сложных зависимостей. Например, для регрессии наивная модель - среднее для целевой переменной (см. семинар 11). В данном случае наивной моделью может быть преположение \"все студенты (не)довольны\"."
   ]
  },
  {
   "cell_type": "code",
   "execution_count": 267,
   "metadata": {},
   "outputs": [],
   "source": [
    "# Скажем что все студенты довольны\n",
    "y_pred_naive = [1 for _ in range(len(X_test))]"
   ]
  },
  {
   "cell_type": "markdown",
   "metadata": {},
   "source": [
    "**Задание 3.** Постройте модели ближайших соседей для 3, 5, 7 ближайших соседей. "
   ]
  },
  {
   "cell_type": "code",
   "execution_count": 268,
   "metadata": {},
   "outputs": [
    {
     "data": {
      "text/plain": [
       "KNeighborsClassifier(n_neighbors=7)"
      ]
     },
     "execution_count": 268,
     "metadata": {},
     "output_type": "execute_result"
    }
   ],
   "source": [
    "from sklearn.neighbors import KNeighborsClassifier\n",
    "\n",
    "knn3 = KNeighborsClassifier(n_neighbors = 3)\n",
    "knn5 = KNeighborsClassifier(n_neighbors = 5)\n",
    "knn7 = KNeighborsClassifier(n_neighbors = 7)\n",
    "\n",
    "knn3.fit(X_train, y_train)\n",
    "knn5.fit(X_train, y_train)\n",
    "knn7.fit(X_train, y_train)"
   ]
  },
  {
   "cell_type": "markdown",
   "metadata": {},
   "source": [
    "**Задание 4.** Постройте метрики качества на тестовой выборке (3 известных вам) для моделей из 1 и 2 задания и сравните между собой. Какая победила? "
   ]
  },
  {
   "cell_type": "code",
   "execution_count": 269,
   "metadata": {},
   "outputs": [
    {
     "name": "stdout",
     "output_type": "stream",
     "text": [
      "Baseline:   Recall: 1.000, Precision: 0.915, F1: 0.956\n",
      "3 ngbrs:    Recall: 1.000, Precision: 0.915, F1: 0.956\n",
      "5 ngbrs:    Recall: 1.000, Precision: 0.915, F1: 0.956\n",
      "7 ngbrs:    Recall: 1.000, Precision: 0.915, F1: 0.956\n"
     ]
    }
   ],
   "source": [
    "from sklearn.metrics import recall_score\n",
    "from sklearn.metrics import precision_score\n",
    "from sklearn.metrics import f1_score\n",
    "\n",
    "y_pred_knn3 = knn3.predict(X_test)\n",
    "y_pred_knn5 = knn5.predict(X_test)\n",
    "y_pred_knn7 = knn7.predict(X_test)\n",
    "\n",
    "print('Baseline:   Recall: {:.3f}, Precision: {:.3f}, F1: {:.3f}'.format(\n",
    "    recall_score(y_test, y_pred_naive), precision_score(y_test, y_pred_naive), f1_score(y_test, y_pred_naive)))\n",
    "print('3 ngbrs:    Recall: {:.3f}, Precision: {:.3f}, F1: {:.3f}'.format(\n",
    "    recall_score(y_test, y_pred_knn3), precision_score(y_test, y_pred_knn3), f1_score(y_test, y_pred_knn3)))\n",
    "print('5 ngbrs:    Recall: {:.3f}, Precision: {:.3f}, F1: {:.3f}'.format(\n",
    "    recall_score(y_test, y_pred_knn5), precision_score(y_test, y_pred_knn5), f1_score(y_test, y_pred_knn5)))\n",
    "print('7 ngbrs:    Recall: {:.3f}, Precision: {:.3f}, F1: {:.3f}'.format(\n",
    "    recall_score(y_test, y_pred_knn7), precision_score(y_test, y_pred_knn7), f1_score(y_test, y_pred_knn7)))\n",
    "# Судя по метрикам, модели имеют идентичную точность"
   ]
  },
  {
   "cell_type": "markdown",
   "metadata": {},
   "source": [
    "**Задание 5.** Примените шкалирование (MinMax, обучите его на обучающей выборке к факторам, затем примените к тестовой), снова постройте модели для нескольких вариантов соседей (3, 5, 7). Помогло ли шкалирование? "
   ]
  },
  {
   "cell_type": "code",
   "execution_count": 270,
   "metadata": {},
   "outputs": [
    {
     "name": "stdout",
     "output_type": "stream",
     "text": [
      "3 ngbrs:    Recall: 0.985, Precision: 0.928, F1: 0.955\n",
      "5 ngbrs:    Recall: 1.000, Precision: 0.915, F1: 0.956\n",
      "7 ngbrs:    Recall: 1.000, Precision: 0.915, F1: 0.956\n"
     ]
    }
   ],
   "source": [
    "from sklearn.preprocessing import MinMaxScaler\n",
    "\n",
    "scaler = MinMaxScaler()\n",
    "scaler.fit(X_train) \n",
    "\n",
    "X_train_norm = scaler.transform(X_train) \n",
    "X_test_norm = scaler.transform(X_test)\n",
    "\n",
    "knn3.fit(X_train_norm, y_train)\n",
    "knn5.fit(X_train_norm, y_train)\n",
    "knn7.fit(X_train_norm, y_train)\n",
    "\n",
    "y_pred_knn3 = knn3.predict(X_test_norm)\n",
    "y_pred_knn5 = knn5.predict(X_test_norm)\n",
    "y_pred_knn7 = knn7.predict(X_test_norm)\n",
    "\n",
    "print('3 ngbrs:    Recall: {:.3f}, Precision: {:.3f}, F1: {:.3f}'.format(\n",
    "    recall_score(y_test, y_pred_knn3), precision_score(y_test, y_pred_knn3), f1_score(y_test, y_pred_knn3)))\n",
    "print('5 ngbrs:    Recall: {:.3f}, Precision: {:.3f}, F1: {:.3f}'.format(\n",
    "    recall_score(y_test, y_pred_knn5), precision_score(y_test, y_pred_knn5), f1_score(y_test, y_pred_knn5)))\n",
    "print('7 ngbrs:    Recall: {:.3f}, Precision: {:.3f}, F1: {:.3f}'.format(\n",
    "    recall_score(y_test, y_pred_knn7), precision_score(y_test, y_pred_knn7), f1_score(y_test, y_pred_knn7)))\n",
    "\n",
    "# Скалирование чуть изменило модель с 3 соседями, но по факту все осталось почти как прежде"
   ]
  },
  {
   "cell_type": "markdown",
   "metadata": {},
   "source": [
    "**Задание 6.** Избавьтесь от выбросов в исходной выборке, затем снова разделите ее на тестовую и обучающую, постройте модель для нескольких вариантов числа соседей(3, 5, 7). Какое число соседей лучшее и почему? Улучшилось ли качество модели по сравнению со лучшей моделью, в которой было применено шкалирование из задания 5?"
   ]
  },
  {
   "cell_type": "code",
   "execution_count": 271,
   "metadata": {},
   "outputs": [
    {
     "data": {
      "text/plain": [
       "<seaborn.axisgrid.FacetGrid at 0x2bd8484e248>"
      ]
     },
     "execution_count": 271,
     "metadata": {},
     "output_type": "execute_result"
    },
    {
     "data": {
      "image/png": "[encoded data removed]",
      "text/plain": [
       "<Figure size 500x500 with 1 Axes>"
      ]
     },
     "metadata": {},
     "output_type": "display_data"
    }
   ],
   "source": [
    "import seaborn as sns\n",
    "sns.displot(df['SalaryExpectation'])"
   ]
  },
  {
   "cell_type": "code",
   "execution_count": 272,
   "metadata": {},
   "outputs": [
    {
     "name": "stdout",
     "output_type": "stream",
     "text": [
      "3 ngbrs:    Recall: 1.000, Precision: 0.913, F1: 0.955\n",
      "5 ngbrs:    Recall: 1.000, Precision: 0.913, F1: 0.955\n",
      "7 ngbrs:    Recall: 1.000, Precision: 0.913, F1: 0.955\n"
     ]
    }
   ],
   "source": [
    "df = df[df['SalaryExpectation'] < 70000]\n",
    "\n",
    "X = df[good_feats]\n",
    "y = df['LikeDegree']\n",
    "X_train, X_test, y_train, y_test = train_test_split(X, y, test_size=0.3, random_state=42, stratify=df['LikeDegree'])\n",
    "\n",
    "knn3 = KNeighborsClassifier(n_neighbors = 3)\n",
    "knn5 = KNeighborsClassifier(n_neighbors = 5)\n",
    "knn7 = KNeighborsClassifier(n_neighbors = 7)\n",
    "\n",
    "knn3.fit(X_train, y_train)\n",
    "knn5.fit(X_train, y_train)\n",
    "knn7.fit(X_train, y_train)\n",
    "\n",
    "y_pred_knn3 = knn3.predict(X_test)\n",
    "y_pred_knn5 = knn5.predict(X_test)\n",
    "y_pred_knn7 = knn7.predict(X_test)\n",
    "\n",
    "print('3 ngbrs:    Recall: {:.3f}, Precision: {:.3f}, F1: {:.3f}'.format(\n",
    "    recall_score(y_test, y_pred_knn3), precision_score(y_test, y_pred_knn3), f1_score(y_test, y_pred_knn3)))\n",
    "print('5 ngbrs:    Recall: {:.3f}, Precision: {:.3f}, F1: {:.3f}'.format(\n",
    "    recall_score(y_test, y_pred_knn5), precision_score(y_test, y_pred_knn5), f1_score(y_test, y_pred_knn5)))\n",
    "print('7 ngbrs:    Recall: {:.3f}, Precision: {:.3f}, F1: {:.3f}'.format(\n",
    "    recall_score(y_test, y_pred_knn7), precision_score(y_test, y_pred_knn7), f1_score(y_test, y_pred_knn7)))\n",
    "\n",
    "# Точность совсем чуть чуть упала из за того что, видимо, выброс определялся правильно"
   ]
  },
  {
   "cell_type": "markdown",
   "metadata": {},
   "source": [
    "**Задание 7.** Какая конфигурация модели получилась лучшей? Почему?Выбираем из всех построенных моделей, не забудьте про наивный прогноз и все рассмотренне варианты числа соседей. "
   ]
  },
  {
   "cell_type": "markdown",
   "metadata": {},
   "source": [
    "Абсолютно все модели имеют идентичную точность предсказываний. Это обусловлено тем что выборка очень маленькая, а так же тем ,что скорее всего есть в данных есть несколько 'исключений из правил' которые есть внутри кластеров и они портят точность алгоритма, вне зависимости от количества ближайших соседей. В этом случае логичнее всего просто использовать наивный прогноз, так как он дает прогноз за константу, его не нужно обучать, ему не нужны никакие библиотеки и никакие данные "
   ]
  }
 ],
 "metadata": {
  "kernelspec": {
   "display_name": "Python 3.7.9 64-bit",
   "language": "python",
   "name": "python3"
  },
  "language_info": {
   "codemirror_mode": {
    "name": "ipython",
    "version": 3
   },
   "file_extension": ".py",
   "mimetype": "text/x-python",
   "name": "python",
   "nbconvert_exporter": "python",
   "pygments_lexer": "ipython3",
   "version": "3.7.9"
  },
  "vscode": {
   "interpreter": {
    "hash": "343199050d598d2a78c90ac803698915da1c299ca8339451b60b57ba9d8b1b21"
   }
  }
 },
 "nbformat": 4,
 "nbformat_minor": 4
}
